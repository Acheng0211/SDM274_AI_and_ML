{
 "cells": [
  {
   "cell_type": "markdown",
   "metadata": {},
   "source": [
    "该数据集中的每个样本包含患者的年龄、近视/远视、是否散光、流泪量4个特征，以及医生推荐他们佩戴的隐形眼镜类型（硬材质、软材质、不佩戴）。使用该数据集可以构造一棵决策树，帮助医生给患者推荐应佩戴眼镜的类型。\n",
    "\n",
    "![隐形眼镜数据集](../dataset/lenses/pic01.png)"
   ]
  },
  {
   "cell_type": "code",
   "execution_count": 24,
   "metadata": {},
   "outputs": [
    {
     "data": {
      "text/plain": [
       "<module 'decision_tree' from 'c:\\\\Users\\\\WS-NUC\\\\Desktop\\\\SDM274_AI_and_ML\\\\HA-07_Decision_Tree\\\\HW_DT\\\\lec07_dt\\\\decision_tree.py'>"
      ]
     },
     "execution_count": 24,
     "metadata": {},
     "output_type": "execute_result"
    }
   ],
   "source": [
    "import numpy as np\n",
    "import decision_tree as DT\n",
    "from decisiontreeplotter import DecisionTreePlotter\n",
    "from sklearn.metrics import accuracy_score\n",
    "from sklearn.model_selection import train_test_split\n",
    "\n",
    "import importlib\n",
    "\n",
    "importlib.reload(DT)"
   ]
  },
  {
   "cell_type": "code",
   "execution_count": 25,
   "metadata": {},
   "outputs": [
    {
     "data": {
      "text/plain": [
       "array([[ 1,  1,  1,  1,  1,  3],\n",
       "       [ 2,  1,  1,  1,  2,  2],\n",
       "       [ 3,  1,  1,  2,  1,  3],\n",
       "       [ 4,  1,  1,  2,  2,  1],\n",
       "       [ 5,  1,  2,  1,  1,  3],\n",
       "       [ 6,  1,  2,  1,  2,  2],\n",
       "       [ 7,  1,  2,  2,  1,  3],\n",
       "       [ 8,  1,  2,  2,  2,  1],\n",
       "       [ 9,  2,  1,  1,  1,  3],\n",
       "       [10,  2,  1,  1,  2,  2],\n",
       "       [11,  2,  1,  2,  1,  3],\n",
       "       [12,  2,  1,  2,  2,  1],\n",
       "       [13,  2,  2,  1,  1,  3],\n",
       "       [14,  2,  2,  1,  2,  2],\n",
       "       [15,  2,  2,  2,  1,  3],\n",
       "       [16,  2,  2,  2,  2,  3],\n",
       "       [17,  3,  1,  1,  1,  3],\n",
       "       [18,  3,  1,  1,  2,  3],\n",
       "       [19,  3,  1,  2,  1,  3],\n",
       "       [20,  3,  1,  2,  2,  1],\n",
       "       [21,  3,  2,  1,  1,  3],\n",
       "       [22,  3,  2,  1,  2,  2],\n",
       "       [23,  3,  2,  2,  1,  3],\n",
       "       [24,  3,  2,  2,  2,  3]])"
      ]
     },
     "execution_count": 25,
     "metadata": {},
     "output_type": "execute_result"
    }
   ],
   "source": [
    "data = np.loadtxt('../dataset/lenses/lenses.data', dtype=int)\n",
    "data"
   ]
  },
  {
   "cell_type": "markdown",
   "metadata": {},
   "source": [
    "The dataset is divided into *X* (feature) and *y* (label). Then *X* and *y* are divided into training set and testing set in a 7:3 ratio"
   ]
  },
  {
   "cell_type": "code",
   "execution_count": null,
   "metadata": {},
   "outputs": [],
   "source": [
    "X = data[:, 1:-1] \n",
    "y = data[:, -1]\n",
    "\n",
    "X_train, X_test, y_train, y_test = train_test_split(X, y, test_size=0.3, random_state=42)\n",
    "\n",
    "dt01 = DT.DecisionTree()\n",
    "dt01.train(X_train,y_train)\n",
    "\n",
    "print(dt01)"
   ]
  },
  {
   "cell_type": "code",
   "execution_count": 27,
   "metadata": {},
   "outputs": [],
   "source": [
    "features_dict = {\n",
    "    0: {'name': 'age', 'value_names': {1:'young', \n",
    "                                       2:'pre-presbyopic',\n",
    "                                       3:'presbyopic'}\n",
    "        },\n",
    "    1: {'name':'prescript', \n",
    "        'value_names': {1: 'myope',\n",
    "                        2: 'hypermetrope'}\n",
    "        },\n",
    "    2: {'name': 'astigmatic', \n",
    "        'value_names': {1: 'no', \n",
    "                        2: 'yes'}\n",
    "    },\n",
    "    3: {'name': 'tear rate', \n",
    "        'value_names': {1:'reduced', \n",
    "                        2:'normal'}\n",
    "        },\n",
    "}\n",
    "\n",
    "label_dict = {\n",
    "    1: 'hard',\n",
    "    2: 'soft',\n",
    "    3: 'no_lenses',\n",
    "}\n",
    "\n",
    "dtp = DecisionTreePlotter(dt01.tree_, feature_names = features_dict, label_names=label_dict)\n",
    "dtp.plot()"
   ]
  },
  {
   "cell_type": "markdown",
   "metadata": {},
   "source": [
    "calculate accuracy of the decision tree model *dt01*"
   ]
  },
  {
   "cell_type": "code",
   "execution_count": null,
   "metadata": {},
   "outputs": [
    {
     "name": "stdout",
     "output_type": "stream",
     "text": [
      "{'accuracy': [0.625]}\n"
     ]
    }
   ],
   "source": [
    "y_pred = dt01.predict(X_test)\n",
    "\n",
    "scores = {'accuracy': []}\n",
    "scores['accuracy'].append(accuracy_score(y_test, y_pred))\n",
    "print(scores)"
   ]
  }
 ],
 "metadata": {
  "kernelspec": {
   "display_name": "Python 3",
   "language": "python",
   "name": "python3"
  },
  "language_info": {
   "codemirror_mode": {
    "name": "ipython",
    "version": 3
   },
   "file_extension": ".py",
   "mimetype": "text/x-python",
   "name": "python",
   "nbconvert_exporter": "python",
   "pygments_lexer": "ipython3",
   "version": "3.8.20"
  }
 },
 "nbformat": 4,
 "nbformat_minor": 2
}
