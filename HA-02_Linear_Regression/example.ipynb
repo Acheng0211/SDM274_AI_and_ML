{
 "cells": [
  {
   "cell_type": "code",
   "execution_count": 1,
   "metadata": {},
   "outputs": [],
   "source": [
    "import numpy as np\n",
    "import matplotlib.pyplot as plt"
   ]
  },
  {
   "cell_type": "code",
   "execution_count": 2,
   "metadata": {},
   "outputs": [],
   "source": [
    "class GDLinearReagression:\n",
    "\n",
    "    def __init__(self, n_feature = 1, n_iter = 2000, lr = 1e-3, tol = None) :\n",
    "        self.n_iter = n_iter    # maximum iteration steps\n",
    "        self.lr = lr            # learning rate\n",
    "        self.tol = tol          # Threshold for stopping iteration\n",
    "        self.W = np.random.random(n_feature + 1) * 0.05 # model parameters\n",
    "        self.loss = []           # loss value\n",
    "\n",
    "    def _loss(self, y, y_pred):\n",
    "        return np.mean((y_pred - y) ** 2) / y.size\n",
    "    \n",
    "    def _gradient(self, X, y, y_pred):\n",
    "        return (y_pred-y) @ X / y.size\n",
    "    \n",
    "    def _preprocess_data(self, X):\n",
    "        m, n = X.shape\n",
    "        X_ = np.empty([m, n+1])\n",
    "        X_[:, 0] = 1\n",
    "        X_[:, 1:] = X \n",
    "        return X_\n",
    "    \n",
    "    def _predict(self, X):\n",
    "        return X @ self.W\n",
    "    \n",
    "    def predict(self, X):\n",
    "        X = self._preprocess_data(X)\n",
    "        return X @ self.W\n",
    "    \n",
    "    def batch_update(self, X, y):\n",
    "\n",
    "        if self.tol is not None:\n",
    "            loss_old = np.inf\n",
    "\n",
    "        for iter in range(self.n_iter):\n",
    "            y_pred = self._predict(X)\n",
    "            loss = self._loss(y, y_pred)\n",
    "            #print(loss)\n",
    "            self.loss.append(loss)\n",
    "\n",
    "            if self.tol is not None:\n",
    "                if np.abs(loss_old - loss) < self.tol:\n",
    "                    break\n",
    "                loss_old = loss\n",
    "\n",
    "            grad = self._gradient(X, y, y_pred)\n",
    "            # self.W -= self.lr * grad\n",
    "            self.W = self.W - self.lr * grad\n",
    "    \n",
    "    def train(self, X_train, y_train):\n",
    "        X_train = self._preprocess_data(X_train)\n",
    "        self.batch_update(X_train, y_train)\n",
    "\n",
    "    def plot_loss(self):\n",
    "        plt.plot(self.loss)\n",
    "        plt.grid()\n",
    "        plt.show()"
   ]
  },
  {
   "cell_type": "code",
   "execution_count": 3,
   "metadata": {},
   "outputs": [
    {
     "name": "stdout",
     "output_type": "stream",
     "text": [
      "1\n"
     ]
    },
    {
     "name": "stderr",
     "output_type": "stream",
     "text": [
      "/home/hgj/anaconda3/envs/sdm274/lib/python3.8/site-packages/numpy/core/_methods.py:181: RuntimeWarning: overflow encountered in reduce\n",
      "  ret = umr_sum(arr, axis, dtype, out, keepdims, where=where)\n",
      "/tmp/ipykernel_12516/4196320841.py:42: RuntimeWarning: invalid value encountered in scalar subtract\n",
      "  if np.abs(loss_old - loss) < self.tol:\n",
      "/tmp/ipykernel_12516/4196320841.py:11: RuntimeWarning: overflow encountered in square\n",
      "  return np.mean((y_pred - y) ** 2) / y.size\n",
      "/tmp/ipykernel_12516/4196320841.py:14: RuntimeWarning: overflow encountered in matmul\n",
      "  return (y_pred-y) @ X / y.size\n",
      "/tmp/ipykernel_12516/4196320841.py:24: RuntimeWarning: invalid value encountered in matmul\n",
      "  return X @ self.W\n"
     ]
    },
    {
     "data": {
      "image/png": "[encoded data removed]",
      "text/plain": [
       "<Figure size 640x480 with 1 Axes>"
      ]
     },
     "metadata": {},
     "output_type": "display_data"
    },
    {
     "name": "stdout",
     "output_type": "stream",
     "text": [
      "Learned weights are [nan nan]\n"
     ]
    }
   ],
   "source": [
    "X_train = np.arange(100).reshape(100,1)\n",
    "a, b = 1, 10\n",
    "y_train = a * X_train + b \n",
    "y_train = y_train.flatten()\n",
    "_, n_feature = X_train.shape\n",
    "print(n_feature)\n",
    "\n",
    "gd_lreg_1 = GDLinearReagression(n_feature = n_feature, n_iter = 3000, lr = 0.001, tol = 0.00001)\n",
    "gd_lreg_1.train(X_train, y_train)\n",
    "y_pred = gd_lreg_1.plot_loss()\n",
    "print(f'Learned weights are {gd_lreg_1.W}')"
   ]
  }
 ],
 "metadata": {
  "kernelspec": {
   "display_name": "sdm274",
   "language": "python",
   "name": "python3"
  },
  "language_info": {
   "codemirror_mode": {
    "name": "ipython",
    "version": 3
   },
   "file_extension": ".py",
   "mimetype": "text/x-python",
   "name": "python",
   "nbconvert_exporter": "python",
   "pygments_lexer": "ipython3",
   "version": "3.8.18"
  }
 },
 "nbformat": 4,
 "nbformat_minor": 2
}
