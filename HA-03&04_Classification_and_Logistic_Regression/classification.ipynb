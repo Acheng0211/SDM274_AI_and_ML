{
 "cells": [
  {
   "cell_type": "code",
   "execution_count": 54,
   "metadata": {},
   "outputs": [],
   "source": [
    "import numpy as np\n",
    "import matplotlib.pyplot as plt\n",
    "import pandas as pd\n",
    "from sklearn.model_selection import train_test_split\n",
    "from sklearn.metrics import accuracy_score, recall_score, precision_score, f1_score"
   ]
  },
  {
   "cell_type": "code",
   "execution_count": 55,
   "metadata": {},
   "outputs": [],
   "source": [
    "class Perceptron:\n",
    "    def __init__(self, n_feature = 1, epoch = 200, lr = 0.01, tol = None):\n",
    "        self.n_feature = n_feature\n",
    "        self.epoch = epoch\n",
    "        self.lr = lr\n",
    "        self.tol = tol\n",
    "        self.W = np.random.rand(n_feature + 1) * 0.5\n",
    "        self.loss = []\n",
    "        self.best_loss = np.inf\n",
    "        self.patience = 10 \n",
    "        self.X_train_bar = []\n",
    "\n",
    "    def _loss(self, y, y_pred):\n",
    "        return -y_pred * y if y_pred * y <0 else 0\n",
    "    \n",
    "    def _gradient(self, x_bar, y, y_pred):\n",
    "        return -y * x_bar if y_pred * y <0 else 0\n",
    "    \n",
    "    def _preprocess_data(self,X):\n",
    "        m, n = X.shape\n",
    "        X_ = np.empty([m, n+1])\n",
    "        X_[:, 0] = 1\n",
    "        X_[:, 1:] = X\n",
    "        return X_\n",
    "    \n",
    "    def sgd_update(self, X, y):\n",
    "        break_out = False\n",
    "        epoch_no_improve = 0\n",
    "\n",
    "        for iter in range(self.epoch):\n",
    "            for i,x in enumerate(X):\n",
    "                y_pred = self._predict(x)\n",
    "                loss = self._loss(y[i], y_pred)\n",
    "                self.loss.append(loss)\n",
    "\n",
    "                if self.tol is not None:\n",
    "                    if loss < self.best_loss - self.tol:\n",
    "                        self.best_loss = loss\n",
    "                        epoch_no_improve = 0\n",
    "                    elif np.abs(loss-self.best_loss) < self.tol:\n",
    "                        epoch_no_improve += 1\n",
    "                        if epoch_no_improve >= self.patience:\n",
    "                            print(f\"Early stopping triggered due to the no improvement in loss\")\n",
    "                            break_out = True\n",
    "                            break\n",
    "                        else:\n",
    "                            epoch_no_improve = 0\n",
    "                            grad = self._gradient(x, y[i], y_pred)\n",
    "                            self.W -= self.lr * grad\n",
    "                if break_out:\n",
    "                    break_out = False\n",
    "                    break\n",
    "\n",
    "\n",
    "    def _sgd_update(self, X, y): #epoch=2750\n",
    "        pred = X @ self.W \n",
    "        i = np.random.randint(0, len(X))\n",
    "        grad = self._gradient(X[i,:][np.newaxis, :], y[i], pred[i])\n",
    "        self.W -= self.lr * grad  # 随机梯度下降更新\n",
    "\n",
    "    def _bgd_update(self, X, y): #lr=1e-6\n",
    "        pred = X @ self.W \n",
    "        grad = self._gradient(X, y, pred)\n",
    "        self.W -= self.lr * grad  # 批量梯度下降更新\n",
    "        \n",
    "    def _mbgd_update(self, X, y): #epoch=10000\n",
    "        pred = self._predict(X)\n",
    "        indices = np.random.choice(y.shape[0], self.batch_size, replace=False)\n",
    "        grad = self._gradient(X[indices], y[indices], pred[indices])\n",
    "        self.W -= self.lr * grad/self.batch_size\n",
    "\n",
    "    def _predict(self, X):\n",
    "        return X @ self.W\n",
    "    \n",
    "    def train(self, X_train, t_train):\n",
    "        X_train_bar = self._preprocess_data(X_train)\n",
    "        self.X_train_bar = X_train_bar\n",
    "        print(X_train_bar,X_train_bar.shape)\n",
    "        self.sgd_update(X_train_bar, t_train)\n",
    "        print(self.W,self.W.shape)\n",
    "\n",
    "    def plot_loss(self):\n",
    "        plt.plot(self.loss)\n",
    "        plt.grid()\n",
    "        plt.show()"
   ]
  },
  {
   "cell_type": "markdown",
   "metadata": {},
   "source": [
    "例子"
   ]
  },
  {
   "cell_type": "code",
   "execution_count": 56,
   "metadata": {},
   "outputs": [],
   "source": [
    "# X_train = np.array([[-2,4],[4,1],[1,6],[2,4],[6,2]])\n",
    "# y_train = np.array([-1,-1,1,1,1])\n",
    "# _,n_feature = X_train.shape\n",
    "# model = Perceptron(n_feature=n_feature, epoch = 200, lr = 0.01, tol = 1e-3)\n",
    "# model.train(X_train,y_train)\n",
    "# print(f\"Learned weights are {model.W}\")\n",
    "# y_pred = np.sign(model._predict(model._preprocess_data(X_train)))\n",
    "# print(f\"Prediced labels are {y_pred}\")\n",
    "\n",
    "# plt.figure()\n",
    "# model.plot_loss()"
   ]
  },
  {
   "cell_type": "markdown",
   "metadata": {},
   "source": []
  },
  {
   "cell_type": "markdown",
   "metadata": {},
   "source": [
    "从wine.data中删除一类样本，并将保留后的两类样本wine_data_filtered作为新的数据集，并以（0.7，0.3）的比例将wine_data_filtered分为training set和test set"
   ]
  },
  {
   "cell_type": "code",
   "execution_count": 57,
   "metadata": {},
   "outputs": [
    {
     "name": "stdout",
     "output_type": "stream",
     "text": [
      "Original dataset class distribution:\n",
      "class_label\n",
      "2    71\n",
      "1    59\n",
      "3    48\n",
      "Name: count, dtype: int64\n",
      "\n",
      "New dataset class distribution:\n",
      "class_label\n",
      "2    71\n",
      "3    48\n",
      "Name: count, dtype: int64\n",
      "\n",
      "Original dataset shape: (178, 14)\n",
      "New dataset shape: (119, 14)\n",
      "Training set shape: (83, 13)\n",
      "Test set shape: (36, 13)\n"
     ]
    }
   ],
   "source": [
    "file_name = 'wine.data'\n",
    "\n",
    "# 读取数据集\n",
    "column_names = ['class_label'] + [f'feature_{i}' for i in range(13)]  \n",
    "wine_data = pd.read_csv(file_name, header=None, names=column_names)\n",
    "\n",
    "# 显示原始数据集的类别分布\n",
    "print(\"Original dataset class distribution:\")\n",
    "print(wine_data['class_label'].value_counts())\n",
    "\n",
    "# 删除 class_label = 1 的所有行\n",
    "wine_data_filtered = wine_data[wine_data['class_label'] != 1]\n",
    "\n",
    "# 显示新数据集的类别分布\n",
    "print(\"\\nNew dataset class distribution:\")\n",
    "print(wine_data_filtered['class_label'].value_counts())\n",
    "\n",
    "# 检查新数据集的形状\n",
    "print(\"\\nOriginal dataset shape:\", wine_data.shape)\n",
    "print(\"New dataset shape:\", wine_data_filtered.shape)\n",
    "\n",
    "# 将数据分为特征和标签\n",
    "X = wine_data_filtered.drop('class_label', axis=1).values\n",
    "y = wine_data_filtered['class_label'].values\n",
    "\n",
    "# 划分训练集和测试集，这里我们按照70%训练集，30%测试集的比例来划分\n",
    "X_train, X_test, y_train, y_test = train_test_split(X, y, test_size=0.3, random_state=42)\n",
    "\n",
    "# 打印结果以确认划分\n",
    "print(\"Training set shape:\", X_train.shape)\n",
    "print(\"Test set shape:\", X_test.shape)"
   ]
  },
  {
   "cell_type": "code",
   "execution_count": 58,
   "metadata": {},
   "outputs": [
    {
     "name": "stdout",
     "output_type": "stream",
     "text": [
      "[[1.000e+00 1.156e+01 2.050e+00 ... 9.300e-01 3.690e+00 4.650e+02]\n",
      " [1.000e+00 1.288e+01 2.990e+00 ... 7.400e-01 1.420e+00 5.300e+02]\n",
      " [1.000e+00 1.334e+01 9.400e-01 ... 1.020e+00 1.930e+00 7.500e+02]\n",
      " ...\n",
      " [1.000e+00 1.279e+01 2.670e+00 ... 4.800e-01 1.470e+00 4.800e+02]\n",
      " [1.000e+00 1.146e+01 3.740e+00 ... 7.500e-01 2.810e+00 5.620e+02]\n",
      " [1.000e+00 1.369e+01 3.260e+00 ... 9.600e-01 1.820e+00 6.800e+02]] (83, 14)\n",
      "[0.274198   0.02478604 0.14223267 0.26355985 0.10623811 0.46264539\n",
      " 0.05351522 0.34587228 0.47592059 0.15589975 0.11943345 0.17453396\n",
      " 0.31608532 0.33624033] (14,)\n",
      "Learned weights are [0.274198   0.02478604 0.14223267 0.26355985 0.10623811 0.46264539\n",
      " 0.05351522 0.34587228 0.47592059 0.15589975 0.11943345 0.17453396\n",
      " 0.31608532 0.33624033]\n",
      "Prediced labels are [1. 1. 1. 1. 1. 1. 1. 1. 1. 1. 1. 1. 1. 1. 1. 1. 1. 1. 1. 1. 1. 1. 1. 1.\n",
      " 1. 1. 1. 1. 1. 1. 1. 1. 1. 1. 1. 1. 1. 1. 1. 1. 1. 1. 1. 1. 1. 1. 1. 1.\n",
      " 1. 1. 1. 1. 1. 1. 1. 1. 1. 1. 1. 1. 1. 1. 1. 1. 1. 1. 1. 1. 1. 1. 1. 1.\n",
      " 1. 1. 1. 1. 1. 1. 1. 1. 1. 1. 1.]\n"
     ]
    },
    {
     "data": {
      "image/png": "[encoded data removed]",
      "text/plain": [
       "<Figure size 640x480 with 1 Axes>"
      ]
     },
     "metadata": {},
     "output_type": "display_data"
    }
   ],
   "source": [
    "model = Perceptron(n_feature = X_train.shape[1], epoch = 2000, lr = 1, tol = 1e-3)\n",
    "model.train(X_train,y_train)\n",
    "print(f\"Learned weights are {model.W}\")\n",
    "y_pred = np.sign(model._predict(model.X_train_bar))\n",
    "\n",
    "# y_pred = np.sign(model._predict(model._preprocess_data(X_train)))\n",
    "print(f\"Prediced labels are {y_pred}\")\n",
    "\n",
    "plt.figure()\n",
    "model.plot_loss()"
   ]
  },
  {
   "cell_type": "code",
   "execution_count": 59,
   "metadata": {},
   "outputs": [
    {
     "ename": "AxisError",
     "evalue": "axis 1 is out of bounds for array of dimension 1",
     "output_type": "error",
     "traceback": [
      "\u001b[0;31m---------------------------------------------------------------------------\u001b[0m",
      "\u001b[0;31mAxisError\u001b[0m                                 Traceback (most recent call last)",
      "Cell \u001b[0;32mIn[59], line 1\u001b[0m\n\u001b[0;32m----> 1\u001b[0m y_pred \u001b[38;5;241m=\u001b[39m \u001b[43mnp\u001b[49m\u001b[38;5;241;43m.\u001b[39;49m\u001b[43margmax\u001b[49m\u001b[43m(\u001b[49m\u001b[43mmodel\u001b[49m\u001b[38;5;241;43m.\u001b[39;49m\u001b[43m_predict\u001b[49m\u001b[43m(\u001b[49m\u001b[43mmodel\u001b[49m\u001b[38;5;241;43m.\u001b[39;49m\u001b[43m_preprocess_data\u001b[49m\u001b[43m(\u001b[49m\u001b[43mX_test\u001b[49m\u001b[43m)\u001b[49m\u001b[43m)\u001b[49m\u001b[43m,\u001b[49m\u001b[43m \u001b[49m\u001b[43maxis\u001b[49m\u001b[38;5;241;43m=\u001b[39;49m\u001b[38;5;241;43m1\u001b[39;49m\u001b[43m)\u001b[49m\n\u001b[1;32m      3\u001b[0m \u001b[38;5;66;03m# 计算多分类问题的指标\u001b[39;00m\n\u001b[1;32m      4\u001b[0m recall \u001b[38;5;241m=\u001b[39m recall_score(y_test, y_pred, average\u001b[38;5;241m=\u001b[39m\u001b[38;5;124m'\u001b[39m\u001b[38;5;124mmacro\u001b[39m\u001b[38;5;124m'\u001b[39m)\n",
      "File \u001b[0;32m<__array_function__ internals>:200\u001b[0m, in \u001b[0;36margmax\u001b[0;34m(*args, **kwargs)\u001b[0m\n",
      "File \u001b[0;32m~/anaconda3/envs/sdm274/lib/python3.8/site-packages/numpy/core/fromnumeric.py:1242\u001b[0m, in \u001b[0;36margmax\u001b[0;34m(a, axis, out, keepdims)\u001b[0m\n\u001b[1;32m   1155\u001b[0m \u001b[38;5;250m\u001b[39m\u001b[38;5;124;03m\"\"\"\u001b[39;00m\n\u001b[1;32m   1156\u001b[0m \u001b[38;5;124;03mReturns the indices of the maximum values along an axis.\u001b[39;00m\n\u001b[1;32m   1157\u001b[0m \n\u001b[0;32m   (...)\u001b[0m\n\u001b[1;32m   1239\u001b[0m \u001b[38;5;124;03m(2, 1, 4)\u001b[39;00m\n\u001b[1;32m   1240\u001b[0m \u001b[38;5;124;03m\"\"\"\u001b[39;00m\n\u001b[1;32m   1241\u001b[0m kwds \u001b[38;5;241m=\u001b[39m {\u001b[38;5;124m'\u001b[39m\u001b[38;5;124mkeepdims\u001b[39m\u001b[38;5;124m'\u001b[39m: keepdims} \u001b[38;5;28;01mif\u001b[39;00m keepdims \u001b[38;5;129;01mis\u001b[39;00m \u001b[38;5;129;01mnot\u001b[39;00m np\u001b[38;5;241m.\u001b[39m_NoValue \u001b[38;5;28;01melse\u001b[39;00m {}\n\u001b[0;32m-> 1242\u001b[0m \u001b[38;5;28;01mreturn\u001b[39;00m \u001b[43m_wrapfunc\u001b[49m\u001b[43m(\u001b[49m\u001b[43ma\u001b[49m\u001b[43m,\u001b[49m\u001b[43m \u001b[49m\u001b[38;5;124;43m'\u001b[39;49m\u001b[38;5;124;43margmax\u001b[39;49m\u001b[38;5;124;43m'\u001b[39;49m\u001b[43m,\u001b[49m\u001b[43m \u001b[49m\u001b[43maxis\u001b[49m\u001b[38;5;241;43m=\u001b[39;49m\u001b[43maxis\u001b[49m\u001b[43m,\u001b[49m\u001b[43m \u001b[49m\u001b[43mout\u001b[49m\u001b[38;5;241;43m=\u001b[39;49m\u001b[43mout\u001b[49m\u001b[43m,\u001b[49m\u001b[43m \u001b[49m\u001b[38;5;241;43m*\u001b[39;49m\u001b[38;5;241;43m*\u001b[39;49m\u001b[43mkwds\u001b[49m\u001b[43m)\u001b[49m\n",
      "File \u001b[0;32m~/anaconda3/envs/sdm274/lib/python3.8/site-packages/numpy/core/fromnumeric.py:57\u001b[0m, in \u001b[0;36m_wrapfunc\u001b[0;34m(obj, method, *args, **kwds)\u001b[0m\n\u001b[1;32m     54\u001b[0m     \u001b[38;5;28;01mreturn\u001b[39;00m _wrapit(obj, method, \u001b[38;5;241m*\u001b[39margs, \u001b[38;5;241m*\u001b[39m\u001b[38;5;241m*\u001b[39mkwds)\n\u001b[1;32m     56\u001b[0m \u001b[38;5;28;01mtry\u001b[39;00m:\n\u001b[0;32m---> 57\u001b[0m     \u001b[38;5;28;01mreturn\u001b[39;00m \u001b[43mbound\u001b[49m\u001b[43m(\u001b[49m\u001b[38;5;241;43m*\u001b[39;49m\u001b[43margs\u001b[49m\u001b[43m,\u001b[49m\u001b[43m \u001b[49m\u001b[38;5;241;43m*\u001b[39;49m\u001b[38;5;241;43m*\u001b[39;49m\u001b[43mkwds\u001b[49m\u001b[43m)\u001b[49m\n\u001b[1;32m     58\u001b[0m \u001b[38;5;28;01mexcept\u001b[39;00m \u001b[38;5;167;01mTypeError\u001b[39;00m:\n\u001b[1;32m     59\u001b[0m     \u001b[38;5;66;03m# A TypeError occurs if the object does have such a method in its\u001b[39;00m\n\u001b[1;32m     60\u001b[0m     \u001b[38;5;66;03m# class, but its signature is not identical to that of NumPy's. This\u001b[39;00m\n\u001b[0;32m   (...)\u001b[0m\n\u001b[1;32m     64\u001b[0m     \u001b[38;5;66;03m# Call _wrapit from within the except clause to ensure a potential\u001b[39;00m\n\u001b[1;32m     65\u001b[0m     \u001b[38;5;66;03m# exception has a traceback chain.\u001b[39;00m\n\u001b[1;32m     66\u001b[0m     \u001b[38;5;28;01mreturn\u001b[39;00m _wrapit(obj, method, \u001b[38;5;241m*\u001b[39margs, \u001b[38;5;241m*\u001b[39m\u001b[38;5;241m*\u001b[39mkwds)\n",
      "\u001b[0;31mAxisError\u001b[0m: axis 1 is out of bounds for array of dimension 1"
     ]
    }
   ],
   "source": [
    "y_pred = np.argmax(model._predict(model._preprocess_data(X_test)), axis=1)\n",
    "\n",
    "# 计算多分类问题的指标\n",
    "recall = recall_score(y_test, y_pred, average='macro')\n",
    "precision = precision_score(y_test, y_pred, average='macro')\n",
    "f1 = f1_score(y_test, y_pred, average='macro')\n",
    "\n",
    "print(f\"Macro Recall: {recall}\")\n",
    "print(f\"Macro Precision: {precision}\")\n",
    "print(f\"Macro F1 Score: {f1}\")\n",
    "\n",
    "# 计算 Accuracy\n",
    "accuracy = accuracy_score(y_test, y_pred)\n",
    "print(f\"Accuracy: {accuracy}\")\n",
    "\n",
    "# 计算 Recall\n",
    "recall = recall_score(y_test, y_pred)\n",
    "print(f\"Recall: {recall}\")\n",
    "\n",
    "# 计算 Precision\n",
    "precision = precision_score(y_test, y_pred)\n",
    "print(f\"Precision: {precision}\")\n",
    "\n",
    "# 计算 F1 Score\n",
    "f1 = f1_score(y_test, y_pred)\n",
    "print(f\"F1 Score: {f1}\")"
   ]
  }
 ],
 "metadata": {
  "kernelspec": {
   "display_name": "sdm274",
   "language": "python",
   "name": "python3"
  },
  "language_info": {
   "codemirror_mode": {
    "name": "ipython",
    "version": 3
   },
   "file_extension": ".py",
   "mimetype": "text/x-python",
   "name": "python",
   "nbconvert_exporter": "python",
   "pygments_lexer": "ipython3",
   "version": "3.8.18"
  }
 },
 "nbformat": 4,
 "nbformat_minor": 2
}
